{
 "cells": [
  {
   "cell_type": "code",
   "execution_count": null,
   "metadata": {
    "colab": {},
    "colab_type": "code",
    "id": "G0oJfgftpANo"
   },
   "outputs": [],
   "source": [
    "import cv2\n",
    "import matplotlib.pyplot as plt\n",
    "import numpy as np\n",
    "\n",
    "%matplotlib inline"
   ]
  },
  {
   "cell_type": "code",
   "execution_count": null,
   "metadata": {
    "colab": {},
    "colab_type": "code",
    "id": "Stcy4I27qjm3"
   },
   "outputs": [],
   "source": [
    "car_classifier = cv2.CascadeClassifier('cars.xml')"
   ]
  },
  {
   "cell_type": "code",
   "execution_count": null,
   "metadata": {
    "colab": {
     "base_uri": "https://localhost:8080/",
     "height": 34
    },
    "colab_type": "code",
    "id": "6B6pW9_3rP2Q",
    "outputId": "c171d840-c954-49d2-a034-fd607991c2fc"
   },
   "outputs": [],
   "source": [
    "testV = car_classifier.load('cars.xml')\n",
    "print(testV)"
   ]
  },
  {
   "cell_type": "code",
   "execution_count": null,
   "metadata": {
    "colab": {},
    "colab_type": "code",
    "id": "L_UbZCl4rev4"
   },
   "outputs": [],
   "source": [
    "cap = cv2.VideoCapture('video.avi')"
   ]
  },
  {
   "cell_type": "code",
   "execution_count": null,
   "metadata": {
    "colab": {
     "base_uri": "https://localhost:8080/",
     "height": 1000
    },
    "colab_type": "code",
    "id": "JO95GIO1rrZY",
    "outputId": "f5e32a01-2bd7-42a5-8957-008bfcb991ba"
   },
   "outputs": [],
   "source": [
    "\n",
    "%matplotlib inline\n",
    "while cap.isOpened():\n",
    "  ret, frame = cap.read()\n",
    "\n",
    "  #pass the classifier to the frame\n",
    "  cars = car_classifier.detectMultiScale(frame,1.2,3)\n",
    "\n",
    "  \n",
    "  for x,y,w,h in cars:\n",
    "      \n",
    "      cv2.rectangle(frame,\n",
    "                    (x,y),\n",
    "                    (x+w, y+h),\n",
    "                    (0,225,225),\n",
    "                    2\n",
    "                    )\n",
    "      cv2.imshow('cars',frame)\n",
    "\n",
    "  if cv2.waitKey(1) & 0xFF==27:\n",
    "      break\n",
    "  \n",
    "cap.release()\n",
    "cv2.destroyAllWindows()"
   ]
  },
  {
   "cell_type": "code",
   "execution_count": null,
   "metadata": {
    "colab": {},
    "colab_type": "code",
    "id": "qoT9wdWasdOj"
   },
   "outputs": [],
   "source": []
  }
 ],
 "metadata": {
  "colab": {
   "name": "Untitled",
   "provenance": []
  },
  "kernelspec": {
   "display_name": "Python 3",
   "language": "python",
   "name": "python3"
  },
  "language_info": {
   "codemirror_mode": {
    "name": "ipython",
    "version": 3
   },
   "file_extension": ".py",
   "mimetype": "text/x-python",
   "name": "python",
   "nbconvert_exporter": "python",
   "pygments_lexer": "ipython3",
   "version": "3.7.4"
  }
 },
 "nbformat": 4,
 "nbformat_minor": 1
}
